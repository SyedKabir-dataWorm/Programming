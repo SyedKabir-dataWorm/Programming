{
 "cells": [
  {
   "cell_type": "code",
   "execution_count": 1,
   "metadata": {},
   "outputs": [],
   "source": [
    "purchased_item =[]\n",
    "coin=[]\n",
    "\n",
    "main_stock = {'coke':0, 'juice':20, 'tea':15, 'coffee':15, 'milk':50,'sugar':50}\n",
    "mainmenu = {'coke':1.5, 'juice':2, 'tea':2.5, 'coffee':2.5, 'milk':.5,'sugar':.5}\n",
    "    "
   ]
  },
  {
   "cell_type": "code",
   "execution_count": 3,
   "metadata": {},
   "outputs": [],
   "source": [
    "def displaymenu():\n",
    "    for item in mainmenu:\n",
    "        if main_stock[item] ==0:\n",
    "            print(f'Sorry, no {item} available today !')\n",
    "        else:\n",
    "            if item == 'sugar' or item == 'milk':\n",
    "                print(f'{item} price is $ {mainmenu[item]} extra if you choose for tea or coffee')\n",
    "            else:\n",
    "                print(f'{item} price is  $ {mainmenu[item]}')\n",
    "    "
   ]
  },
  {
   "cell_type": "code",
   "execution_count": 4,
   "metadata": {},
   "outputs": [],
   "source": [
    "def totalcost():\n",
    "    cost =0\n",
    "    for i in purchased_item:\n",
    "        cost = cost+mainmenu[i]\n",
    "    return cost"
   ]
  },
  {
   "cell_type": "code",
   "execution_count": 5,
   "metadata": {},
   "outputs": [],
   "source": [
    "def deposit():\n",
    "    coins=0\n",
    "    for i in range(len(coin)):\n",
    "        coins=coins+coin[i]\n",
    "    return coins"
   ]
  },
  {
   "cell_type": "code",
   "execution_count": 6,
   "metadata": {},
   "outputs": [],
   "source": [
    "def lowbalance(items):\n",
    "    transact= input('You are in low balance. Do you wanna buy? Then press \"y\".'+'\\n'+\n",
    "                    'To change your order press \"ch\" '+'\\n'+\n",
    "                    'To cancel transaction or for no response, press any key except y & ch         ').lower()\n",
    "    if transact == 'y':                                  \n",
    "        morecoins = float(input(f'You need {totalcost()-deposit()+mainmenu[items]} dollars more to buy {items}.'\n",
    "                                +'\\n'+ 'Please enter more coins:                                 '))/100\n",
    "        coin_validity(morecoins)\n",
    "        drinks_func(items)\n",
    "    elif transact=='ch':\n",
    "        another_drink()\n",
    "    else:\n",
    "        change_func()   "
   ]
  },
  {
   "cell_type": "code",
   "execution_count": 7,
   "metadata": {},
   "outputs": [],
   "source": [
    "def milkandsugar():\n",
    "    print('wait please. Water is boiling'+'\\n'+'Would you like to add milk and sugar?')\n",
    "    if str(input('Do you need milk? Press \"y\" or \"n\"                                               ').lower())=='y':\n",
    "        if deposit()-totalcost()>= mainmenu['milk']:\n",
    "            print('ok, wait for a second!It will not take long. We are adding milk now.')\n",
    "            main_stock['milk'] = main_stock['milk']-1 \n",
    "            purchased_item.append('milk')\n",
    "        else:\n",
    "            lowbalance('milk')\n",
    "            purchased_item.append('milk')\n",
    "            print('ok, wait for a second! we are adding milk.')             \n",
    "    else:\n",
    "        print('ok, no milk.')\n",
    "    \n",
    "    sugar_add =str(input('Do you need to add sugar automatically? Press \"y\" or \"n\" or \"manual\"           ').lower())\n",
    "    if sugar_add =='y' or sugar_add=='manual':\n",
    "        if deposit()-totalcost()>= mainmenu['sugar']:\n",
    "            if sugar_add =='y':\n",
    "                print('ok, wait for a second!It will not take long. we are adding sugar automatically.')\n",
    "            else:\n",
    "                print('Your drink is stored. Collect sugar. Then add manually')\n",
    "            main_stock['sugar'] = main_stock['sugar']-1\n",
    "            purchased_item.append('sugar')\n",
    "        else:\n",
    "            lowbalance('sugar')\n",
    "            if sugar_add =='y':\n",
    "                print('ok, wait for a second!It will not take long. we are adding sugar automatically.')\n",
    "            else:\n",
    "                print('Your drink is stored. Collect sugar. Then add manually')       \n",
    "    else:\n",
    "        print('ok, no sugar.')"
   ]
  },
  {
   "cell_type": "code",
   "execution_count": 8,
   "metadata": {},
   "outputs": [],
   "source": [
    "def change_func():  \n",
    "    change = deposit()-totalcost()\n",
    "    if purchased_item ==[]:\n",
    "        print(f\"You paid {deposit()} dollars and you bought nothing\" +'\\n'+\n",
    "              f'Thank you. Hope to buy next time. Your change is {change} dollars ')\n",
    "        print(\"Take your change please\")\n",
    "        print(\"Thank you.\")\n",
    "    else:\n",
    "        print(f\"You paid {deposit()} dollars and you bought this drinks:{purchased_item}\" +'\\n'+\n",
    "          f\"Your total purchased amount is {totalcost()} dollars. So Your change is: {change} dollars\")\n",
    "        print(\"Take your change please\")\n",
    "        print(\"Thank you for buyeing. Goodbye\")\n",
    "        restart()\n",
    "    "
   ]
  },
  {
   "cell_type": "code",
   "execution_count": 9,
   "metadata": {},
   "outputs": [],
   "source": [
    "def another_drink():\n",
    "    j= str(input('Do you want another drink: y or n                                              ')).lower()\n",
    "    if j=='y':\n",
    "        print(drink_selection())  \n",
    "    else:\n",
    "        print(change_func())\n",
    "    "
   ]
  },
  {
   "cell_type": "code",
   "execution_count": 10,
   "metadata": {},
   "outputs": [],
   "source": [
    "def no_stock():\n",
    "    print('We are sorry, the item is not in stock; do you need another drink?')\n",
    "    item= str(input('Do not want another drink? please select \"n\"'+'\\n'+\n",
    "                    'Or press any key to continue :                                              ')).lower()\n",
    "    if item =='n':\n",
    "        change_func()\n",
    "    else: \n",
    "        #item=newitem\n",
    "        drink_selection()\n",
    "            "
   ]
  }
 ],
 "metadata": {
  "kernelspec": {
   "display_name": "Python 3",
   "language": "python",
   "name": "python3"
  },
  "language_info": {
   "codemirror_mode": {
    "name": "ipython",
    "version": 3
   },
   "file_extension": ".py",
   "mimetype": "text/x-python",
   "name": "python",
   "nbconvert_exporter": "python",
   "pygments_lexer": "ipython3",
   "version": "3.8.5"
  }
 },
 "nbformat": 4,
 "nbformat_minor": 4
}
