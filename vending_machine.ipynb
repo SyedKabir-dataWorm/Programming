{
 "cells": [
  {
   "cell_type": "code",
   "execution_count": 1,
   "metadata": {},
   "outputs": [],
   "source": [
    "purchased_item =[]\n",
    "coin=[]\n",
    "\n",
    "main_stock = {'coke':0, 'juice':20, 'tea':15, 'coffee':15, 'milk':50,'sugar':50}\n",
    "mainmenu = {'coke':1.5, 'juice':2, 'tea':2.5, 'coffee':2.5, 'milk':.5,'sugar':.5}\n",
    "    "
   ]
  },
  {
   "cell_type": "code",
   "execution_count": 3,
   "metadata": {},
   "outputs": [],
   "source": [
    "def displaymenu():\n",
    "    for item in mainmenu:\n",
    "        if main_stock[item] ==0:\n",
    "            print(f'Sorry, no {item} available today !')\n",
    "        else:\n",
    "            if item == 'sugar' or item == 'milk':\n",
    "                print(f'{item} price is $ {mainmenu[item]} extra if you choose for tea or coffee')\n",
    "            else:\n",
    "                print(f'{item} price is  $ {mainmenu[item]}')\n",
    "    "
   ]
  },
  {
   "cell_type": "code",
   "execution_count": 4,
   "metadata": {},
   "outputs": [],
   "source": [
    "def totalcost():\n",
    "    cost =0\n",
    "    for i in purchased_item:\n",
    "        cost = cost+mainmenu[i]\n",
    "    return cost"
   ]
  },
  {
   "cell_type": "code",
   "execution_count": 5,
   "metadata": {},
   "outputs": [],
   "source": [
    "def deposit():\n",
    "    coins=0\n",
    "    for i in range(len(coin)):\n",
    "        coins=coins+coin[i]\n",
    "    return coins"
   ]
  },
  {
   "cell_type": "code",
   "execution_count": 6,
   "metadata": {},
   "outputs": [],
   "source": [
    "def lowbalance(items):\n",
    "    transact= input('You are in low balance. Do you wanna buy? Then press \"y\".'+'\\n'+\n",
    "                    'To change your order press \"ch\" '+'\\n'+\n",
    "                    'To cancel transaction or for no response, press any key except y & ch         ').lower()\n",
    "    if transact == 'y':                                  \n",
    "        morecoins = float(input(f'You need {totalcost()-deposit()+mainmenu[items]} dollars more to buy {items}.'\n",
    "                                +'\\n'+ 'Please enter more coins:                                 '))/100\n",
    "        coin_validity(morecoins)\n",
    "        drinks_func(items)\n",
    "    elif transact=='ch':\n",
    "        another_drink()\n",
    "    else:\n",
    "        change_func()   "
   ]
  },
  {
   "cell_type": "code",
   "execution_count": 7,
   "metadata": {},
   "outputs": [],
   "source": [
    "def milkandsugar():\n",
    "    print('wait please. Water is boiling'+'\\n'+'Would you like to add milk and sugar?')\n",
    "    if str(input('Do you need milk? Press \"y\" or \"n\"                                               ').lower())=='y':\n",
    "        if deposit()-totalcost()>= mainmenu['milk']:\n",
    "            print('ok, wait for a second!It will not take long. We are adding milk now.')\n",
    "            main_stock['milk'] = main_stock['milk']-1 \n",
    "            purchased_item.append('milk')\n",
    "        else:\n",
    "            lowbalance('milk')\n",
    "            purchased_item.append('milk')\n",
    "            print('ok, wait for a second! we are adding milk.')             \n",
    "    else:\n",
    "        print('ok, no milk.')\n",
    "    \n",
    "    sugar_add =str(input('Do you need to add sugar automatically? Press \"y\" or \"n\" or \"manual\"           ').lower())\n",
    "    if sugar_add =='y' or sugar_add=='manual':\n",
    "        if deposit()-totalcost()>= mainmenu['sugar']:\n",
    "            if sugar_add =='y':\n",
    "                print('ok, wait for a second!It will not take long. we are adding sugar automatically.')\n",
    "            else:\n",
    "                print('Your drink is stored. Collect sugar. Then add manually')\n",
    "            main_stock['sugar'] = main_stock['sugar']-1\n",
    "            purchased_item.append('sugar')\n",
    "        else:\n",
    "            lowbalance('sugar')\n",
    "            if sugar_add =='y':\n",
    "                print('ok, wait for a second!It will not take long. we are adding sugar automatically.')\n",
    "            else:\n",
    "                print('Your drink is stored. Collect sugar. Then add manually')       \n",
    "    else:\n",
    "        print('ok, no sugar.')"
   ]
  },
  {
   "cell_type": "code",
   "execution_count": 8,
   "metadata": {},
   "outputs": [],
   "source": [
    "def change_func():  \n",
    "    change = deposit()-totalcost()\n",
    "    if purchased_item ==[]:\n",
    "        print(f\"You paid {deposit()} dollars and you bought nothing\" +'\\n'+\n",
    "              f'Thank you. Hope to buy next time. Your change is {change} dollars ')\n",
    "        print(\"Take your change please\")\n",
    "        print(\"Thank you.\")\n",
    "    else:\n",
    "        print(f\"You paid {deposit()} dollars and you bought this drinks:{purchased_item}\" +'\\n'+\n",
    "          f\"Your total purchased amount is {totalcost()} dollars. So Your change is: {change} dollars\")\n",
    "        print(\"Take your change please\")\n",
    "        print(\"Thank you for buyeing. Goodbye\")\n",
    "        restart()\n",
    "    "
   ]
  },
  {
   "cell_type": "code",
   "execution_count": 9,
   "metadata": {},
   "outputs": [],
   "source": [
    "def another_drink():\n",
    "    j= str(input('Do you want another drink: y or n                                              ')).lower()\n",
    "    if j=='y':\n",
    "        print(drink_selection())  \n",
    "    else:\n",
    "        print(change_func())\n",
    "    "
   ]
  },
  {
   "cell_type": "code",
   "execution_count": 10,
   "metadata": {},
   "outputs": [],
   "source": [
    "def no_stock():\n",
    "    print('We are sorry, the item is not in stock; do you need another drink?')\n",
    "    item= str(input('Do not want another drink? please select \"n\"'+'\\n'+\n",
    "                    'Or press any key to continue :                                              ')).lower()\n",
    "    if item =='n':\n",
    "        change_func()\n",
    "    else: \n",
    "        #item=newitem\n",
    "        drink_selection()\n",
    "            "
   ]
  },
  {
   "cell_type": "code",
   "execution_count": 11,
   "metadata": {},
   "outputs": [],
   "source": [
    "\n",
    "def not_in_menu(item):\n",
    "    if item not in mainmenu:\n",
    "            print('Sorry, your selection is not in the list.'+'\\n'+\n",
    "                  'Please select only listed drinks from the menu.')\n",
    "            x= drink_selection()\n",
    "    else:\n",
    "            x= change_func()\n",
    "    return x"
   ]
  },
  {
   "cell_type": "code",
   "execution_count": 12,
   "metadata": {},
   "outputs": [],
   "source": [
    "def coin_validity(penny):\n",
    "    coinlist = [.2,.5,1,2]\n",
    "    if penny not in coinlist:\n",
    "        print('Sorry, we can take only specific coins.')\n",
    "        penny = (float(input('Please enter your coins. Allowable coins are:'+'\\n'+\n",
    "                            '10cents,20cents,50cents,100cents,200cents                             '))/100)\n",
    "    coin.append(penny)\n"
   ]
  },
  {
   "cell_type": "code",
   "execution_count": 13,
   "metadata": {},
   "outputs": [],
   "source": [
    "def drink_confirmation(item):\n",
    "    if item in mainmenu and item!='cancel':\n",
    "        print(f'Cost of your selected drink: {item} is {mainmenu[item]}') #U-003Cost of the selected item is displayed\n",
    "        \n",
    "        confirm = str(input('Do you wanna proceed with your buys? press \"y\"'+'\\n'+ \n",
    "                        'Otherwise press \"ch\" for change' +\n",
    "                        '\\n'+'or press \"c\" to cancel                                              ')).lower()\n",
    "        \n",
    "        if confirm == 'y': #U-004 Coin must be inserted to get the product\n",
    "            initialcoins = (float(input('Please enter your coins. Allowable coins are:'+'\\n'+\n",
    "                                    '10cents,20cents,50cents,100cents,200cents                      '))/100)\n",
    "            coin_validity(initialcoins)\n",
    "            drinks_func(item)\n",
    "        \n",
    "        elif confirm == 'ch':\n",
    "            print('Do you want to change purchasing? Then select new item ')\n",
    "            item = str(input('Please select your drinks:                                            ')).lower()\n",
    "            drink_confirmation(item)\n",
    "        \n",
    "        else: # U-005, The transaction shall be canceled if required\n",
    "            change_func() \n",
    "    else:\n",
    "        if item =='c': #item not in mainmenu\n",
    "            change_func()   \n",
    "        else:\n",
    "            not_in_menu(item)"
   ]
  },
  {
   "cell_type": "code",
   "execution_count": 14,
   "metadata": {},
   "outputs": [],
   "source": [
    "def drink_selection():\n",
    "    displaymenu() # U-002, List of products is displayed\n",
    "    item = str(input('Please select your drinks. For cancellation, press \"c\":                       ')).lower()\n",
    "    drink_confirmation(item)      "
   ]
  },
  {
   "cell_type": "code",
   "execution_count": 15,
   "metadata": {},
   "outputs": [],
   "source": [
    "\n",
    "def drinks_func(item):\n",
    "        if main_stock[item]!=0:                           # when stock available\n",
    "            if deposit()-totalcost()>= mainmenu[item]:\n",
    "                \n",
    "                main_stock[item] = main_stock[item]-1\n",
    "                purchased_item.append(item)\n",
    "                                                \n",
    "                if item =='tea' or item =='coffee':       # choosing milk and sugar for tea and coffee.\n",
    "                    print(milkandsugar())\n",
    "                \n",
    "                print(f'So far total costing is {totalcost()}'+'\\n'+ \n",
    "                      f'So far, you purchased {purchased_item} drinks.'+'\\n'\n",
    "                      f'and your current balance is {deposit()-totalcost()} dollars')  \n",
    "                \n",
    "                another_drink()     # Choosing another drink \n",
    "            else:\n",
    "                lowbalance(item)   # if user is on low-balance \n",
    "                              \n",
    "        else:                     # zero stock condition\n",
    "            no_stock()        \n",
    "    \n",
    "            "
   ]
  },
  {
   "cell_type": "code",
   "execution_count": 16,
   "metadata": {},
   "outputs": [],
   "source": [
    "def restart():\n",
    "    while True:\n",
    "        answer=input(\"Please press 'y' or 'n' to commence a new transaction:     \")\n",
    "        if answer not in ('y', 'n'):\n",
    "            print(\"Invalid input. select 'y' or 'n'\")\n",
    "            restart()\n",
    "        if answer == 'y':\n",
    "            purchased_item.clear()\n",
    "            coin.clear()\n",
    "            print('Welcome to the vending machine.'+'\\n'+ \n",
    "                  'This machine accepts coins from 20 cents to 2 dollars only.')\n",
    "            print('Here is the menu for your drinks ')\n",
    "            drink_selection()\n",
    "        else:\n",
    "            print(\"Goodbye\")\n",
    "            break\n"
   ]
  },
  {
   "cell_type": "code",
   "execution_count": null,
   "metadata": {},
   "outputs": [
    {
     "name": "stdout",
     "output_type": "stream",
     "text": [
      "Please press 'y' or 'n' to commence a new transaction:     y\n",
      "Welcome to the vending machine.\n",
      "This machine accepts coins from 20 cents to 2 dollars only.\n",
      "Here is the menu for your drinks \n",
      "Sorry, no coke available today !\n",
      "juice price is  $ 2\n",
      "tea price is  $ 2.5\n",
      "coffee price is  $ 2.5\n",
      "milk price is $ 0.5 extra if you choose for tea or coffee\n",
      "sugar price is $ 0.5 extra if you choose for tea or coffee\n",
      "Please select your drinks. For cancellation, press \"c\":                       tea\n",
      "Cost of your selected drink: tea is 2.5\n",
      "Do you wanna proceed with your buys? press \"y\"\n",
      "Otherwise press \"ch\" for change\n",
      "or press \"c\" to cancel                                              y\n",
      "Please enter your coins. Allowable coins are:\n",
      "10cents,20cents,50cents,100cents,200cents                      200\n",
      "You are in low balance. Do you wanna buy? Then press \"y\".\n",
      "To change your order press \"ch\" \n",
      "To cancel transaction or for no response, press any key except y & ch         y\n"
     ]
    }
   ],
   "source": [
    "restart()"
   ]
  },
  {
   "cell_type": "code",
   "execution_count": null,
   "metadata": {},
   "outputs": [],
   "source": [
    "## Customer Requirements"
   ]
  },
  {
   "cell_type": "code",
   "execution_count": null,
   "metadata": {},
   "outputs": [],
   "source": [
    "def stock_alert(stock):\n",
    "    for stock in main_stock:\n",
    "        if main_stock[stock]==o:\n",
    "            print('Dear customer, your machine is out of {stock}. Please fill up quickly')"
   ]
  },
  {
   "cell_type": "code",
   "execution_count": null,
   "metadata": {},
   "outputs": [],
   "source": [
    "def machine_set:\n",
    "    "
   ]
  },
  {
   "cell_type": "code",
   "execution_count": null,
   "metadata": {},
   "outputs": [],
   "source": [
    "def vendor_reset():\n",
    "    firstresponse = input('Do you want a factory re-set?  y or  n     ')\n",
    "    if firstresponse == 'y':\n",
    "        purchased_item.clear()\n",
    "        coin.clear()\n",
    "        mainmenue.clear()\n",
    "        main_stock.clear()\n",
    "        "
   ]
  }
 ],
 "metadata": {
  "kernelspec": {
   "display_name": "Python 3",
   "language": "python",
   "name": "python3"
  },
  "language_info": {
   "codemirror_mode": {
    "name": "ipython",
    "version": 3
   },
   "file_extension": ".py",
   "mimetype": "text/x-python",
   "name": "python",
   "nbconvert_exporter": "python",
   "pygments_lexer": "ipython3",
   "version": "3.8.5"
  }
 },
 "nbformat": 4,
 "nbformat_minor": 4
}
